{
 "cells": [
  {
   "cell_type": "markdown",
   "metadata": {},
   "source": [
    "<h1> <strong> 1-Dimensional KMeans from Scratch"
   ]
  },
  {
   "cell_type": "markdown",
   "metadata": {},
   "source": [
    "<i> @description: Built a simple 1-dimensional K Means from scratch (with K = 2), to explore the iterative mechanisms of centroid adjustment.\n",
    "\n",
    "<i> @created: 22 June 2020 20:59:59pm\n",
    "    \n",
    "<i> @author: Manuel Seet"
   ]
  },
  {
   "cell_type": "code",
   "execution_count": 47,
   "metadata": {},
   "outputs": [
    {
     "data": {
      "text/plain": [
       "array([0, 0, 0, 0, 0, 0, 0, 0, 0, 0, 0, 0, 0, 0, 0, 0, 0, 0, 0, 0, 0, 0,\n",
       "       0, 0, 0, 0, 0, 0, 0, 0, 0, 0, 0, 0, 0, 0, 0, 0, 0, 0, 0, 0, 0, 0,\n",
       "       0, 0, 0, 0, 0, 0, 0, 0, 0, 0, 0, 0, 0, 0, 0, 0, 0, 0, 0, 0, 0, 0,\n",
       "       0, 0, 0, 0, 0, 0, 0, 0, 0, 0, 0, 0, 0, 0, 0, 0, 0, 0, 0, 0, 0, 0,\n",
       "       0, 0, 0, 0, 0, 0, 0, 0, 0, 0, 0, 0, 1, 1, 1, 1, 1, 1, 1, 1, 1, 1,\n",
       "       1, 1, 1, 1, 1, 1, 1, 1, 1, 1, 1, 1, 1, 1, 1, 1, 1, 1, 1, 1, 1, 1,\n",
       "       1, 1, 1, 1, 1, 1, 1, 1, 1, 1, 1, 1, 1, 1, 1, 1, 1, 1, 1, 1, 1, 1,\n",
       "       1, 1, 1, 1, 1, 1, 1, 1, 1, 1, 1, 1, 1, 1, 1, 1, 1, 1, 1, 1, 1, 1,\n",
       "       1, 1, 1, 1, 1, 1, 1, 1, 1, 1, 1, 1, 1, 1, 1, 1, 1, 1, 1, 1, 1, 1,\n",
       "       1, 1])"
      ]
     },
     "execution_count": 47,
     "metadata": {},
     "output_type": "execute_result"
    }
   ],
   "source": [
    "import pandas as pd\n",
    "import numpy as np\n",
    "import matplotlib.pyplot as plt\n",
    "from random import random\n",
    "\n",
    "n = 100\n",
    "\n",
    "#here, I generate random gaussian dist data, with discriminable locations\n",
    "a = np.random.normal(25,3,n) \n",
    "b = np.random.normal(40,3,n)\n",
    "x = np.append(a,b)\n",
    "\n",
    "label_a = np.array([0]*n)\n",
    "label_b = np.array([1]*n)\n",
    "labels = np.append(label_a,label_b)\n",
    "labels"
   ]
  },
  {
   "cell_type": "code",
   "execution_count": 48,
   "metadata": {},
   "outputs": [
    {
     "data": {
      "image/png": "[encoded data removed]",
      "text/plain": [
       "<Figure size 432x288 with 1 Axes>"
      ]
     },
     "metadata": {
      "needs_background": "light"
     },
     "output_type": "display_data"
    }
   ],
   "source": [
    "plt.scatter(x, np.zeros_like(x), c = labels,\n",
    "            cmap=\"hot_r\", vmin=-2)\n",
    "\n",
    "plt.yticks([])\n",
    "#plt.legend()\n",
    "plt.title(\"data distribution before clustering (original clusters) \")\n",
    "plt.show()"
   ]
  },
  {
   "cell_type": "code",
   "execution_count": 49,
   "metadata": {},
   "outputs": [
    {
     "data": {
      "text/plain": [
       "(17.676073073959532, 45.803309743185224, 28.12723666922569)"
      ]
     },
     "execution_count": 49,
     "metadata": {},
     "output_type": "execute_result"
    }
   ],
   "source": [
    "min = x.min()\n",
    "max = x.max()\n",
    "range1 = max - min\n",
    "min, max, range1"
   ]
  },
  {
   "cell_type": "code",
   "execution_count": 50,
   "metadata": {},
   "outputs": [
    {
     "data": {
      "text/plain": [
       "(38.80775185628444, 36.24141913052118)"
      ]
     },
     "execution_count": 50,
     "metadata": {},
     "output_type": "execute_result"
    }
   ],
   "source": [
    "centA = min + (random()*range1)\n",
    "centB = min + (random()*range1)\n",
    "centA, centB"
   ]
  },
  {
   "cell_type": "code",
   "execution_count": 51,
   "metadata": {},
   "outputs": [
    {
     "data": {
      "text/plain": [
       "(36.24141913052118, 38.80775185628444)"
      ]
     },
     "execution_count": 51,
     "metadata": {},
     "output_type": "execute_result"
    }
   ],
   "source": [
    "if centA > centB:\n",
    "    centA, centB = centB, centA\n",
    "centA, centB"
   ]
  },
  {
   "cell_type": "code",
   "execution_count": 52,
   "metadata": {},
   "outputs": [],
   "source": [
    "dist2A = abs(x - centA)\n",
    "dist2B = abs(x - centB)\n",
    "x,dist2A;"
   ]
  },
  {
   "cell_type": "code",
   "execution_count": 53,
   "metadata": {},
   "outputs": [],
   "source": [
    "newlabel = []\n",
    "\n",
    "\n",
    "for i in range(len(x)):\n",
    "    if dist2A[i] < dist2B[i]:\n",
    "        newlabel.append(0)\n",
    "    elif dist2A[i] > dist2B[i]:\n",
    "        newlabel.append(1)\n"
   ]
  },
  {
   "cell_type": "code",
   "execution_count": 54,
   "metadata": {},
   "outputs": [],
   "source": [
    "a1 = []\n",
    "b1 = []\n",
    "\n",
    "for i in range(len(newlabel)):\n",
    "    if newlabel[i] == 0:\n",
    "        a1.append(x[i])\n",
    "    elif newlabel[i] == 1:\n",
    "        b1.append(x[i])\n",
    "\n",
    "centA1 = np.mean(a1)\n",
    "centB1 = np.mean(b1)"
   ]
  },
  {
   "cell_type": "code",
   "execution_count": 55,
   "metadata": {},
   "outputs": [
    {
     "data": {
      "image/png": "[encoded data removed]",
      "text/plain": [
       "<Figure size 432x288 with 1 Axes>"
      ]
     },
     "metadata": {
      "needs_background": "light"
     },
     "output_type": "display_data"
    }
   ],
   "source": [
    "plt.scatter(x, np.zeros_like(x), c = newlabel,\n",
    "            cmap=\"hot_r\", vmin=-2)\n",
    "\n",
    "plt.yticks([])\n",
    "#plt.legend()\n",
    "plt.title(\"Clusters after first iteration\")\n",
    "plt.show()"
   ]
  },
  {
   "cell_type": "code",
   "execution_count": 56,
   "metadata": {},
   "outputs": [],
   "source": [
    "\n",
    "centroidsA = [centA, centA1]\n",
    "centroidsB = [centB, centB1]\n",
    "\n",
    "for i in range(4):\n",
    "    dist2A_00 = abs(x - centA1)\n",
    "    dist2B_00 = abs(x - centB1)\n",
    "\n",
    "    newlabel = []\n",
    "    for i in range(len(x)):\n",
    "        if dist2A_00[i] < dist2B_00[i]:\n",
    "            newlabel.append(0)\n",
    "        elif dist2A_00[i] > dist2B_00[i]:\n",
    "            newlabel.append(1)\n",
    "\n",
    "    a1 = []\n",
    "    b1 = []\n",
    "\n",
    "    for i in range(len(newlabel)):\n",
    "        if newlabel[i] == 0:\n",
    "            a1.append(x[i])\n",
    "        elif newlabel[i] == 1:\n",
    "            b1.append(x[i])\n",
    "\n",
    "    centA_00 = np.mean(a1)\n",
    "    centB_00 = np.mean(b1)\n",
    "    \n",
    "    centroidsA.append(centA_00)\n",
    "    centroidsB.append(centB_00)\n",
    "\n",
    "centroids = [centA_00, centB_00]\n",
    "cent_label = [0, 1]"
   ]
  },
  {
   "cell_type": "code",
   "execution_count": 57,
   "metadata": {},
   "outputs": [
    {
     "data": {
      "image/png": "[encoded data removed]",
      "text/plain": [
       "<Figure size 432x288 with 1 Axes>"
      ]
     },
     "metadata": {
      "needs_background": "light"
     },
     "output_type": "display_data"
    }
   ],
   "source": [
    "plt.scatter(x, np.zeros_like(x), c = newlabel,\n",
    "            cmap=\"hot_r\", vmin=-2)\n",
    "plt.scatter(centroids, np.zeros_like(centroids), c = cent_label,\n",
    "            edgecolor=\"k\", s = 200)\n",
    "            \n",
    "plt.yticks([])\n",
    "plt.title(\"Clusters after final iteration\")\n",
    "#plt.legend()\n",
    "plt.show()"
   ]
  },
  {
   "cell_type": "code",
   "execution_count": 58,
   "metadata": {},
   "outputs": [
    {
     "data": {
      "text/plain": [
       "([36.24141913052118,\n",
       "  26.79739147376766,\n",
       "  25.092918020656303,\n",
       "  25.092918020656303,\n",
       "  25.092918020656303,\n",
       "  25.092918020656303],\n",
       " [38.80775185628444,\n",
       "  41.18080570165275,\n",
       "  40.15925972624296,\n",
       "  40.15925972624296,\n",
       "  40.15925972624296,\n",
       "  40.15925972624296],\n",
       " 101,\n",
       " 99)"
      ]
     },
     "execution_count": 58,
     "metadata": {},
     "output_type": "execute_result"
    }
   ],
   "source": [
    "centroidsA, centroidsB, len(a1), len(b1)"
   ]
  },
  {
   "cell_type": "code",
   "execution_count": 59,
   "metadata": {},
   "outputs": [
    {
     "data": {
      "text/plain": [
       "Text(0, 0.5, 'Centroid A position')"
      ]
     },
     "execution_count": 59,
     "metadata": {},
     "output_type": "execute_result"
    },
    {
     "data": {
      "image/png": "[encoded data removed]",
      "text/plain": [
       "<Figure size 432x288 with 1 Axes>"
      ]
     },
     "metadata": {
      "needs_background": "light"
     },
     "output_type": "display_data"
    }
   ],
   "source": [
    "plt.plot(range(len(centroidsA)), centroidsA)\n",
    "plt.title(\"Centroid A over %i iterations\" % len(centroidsA))\n",
    "plt.xlabel(\"Iteration No.\")\n",
    "plt.ylabel(\"Centroid A position\")"
   ]
  },
  {
   "cell_type": "code",
   "execution_count": 60,
   "metadata": {},
   "outputs": [
    {
     "data": {
      "text/plain": [
       "Text(0, 0.5, 'Centroid B position')"
      ]
     },
     "execution_count": 60,
     "metadata": {},
     "output_type": "execute_result"
    },
    {
     "data": {
      "image/png": "[encoded data removed]",
      "text/plain": [
       "<Figure size 432x288 with 1 Axes>"
      ]
     },
     "metadata": {
      "needs_background": "light"
     },
     "output_type": "display_data"
    }
   ],
   "source": [
    "plt.plot(range(len(centroidsB)), centroidsB)\n",
    "plt.title(\"Centroid B over %i iterations\" % len(centroidsB))\n",
    "plt.xlabel(\"Iteration No.\")\n",
    "plt.ylabel(\"Centroid B position\")"
   ]
  },
  {
   "cell_type": "code",
   "execution_count": 61,
   "metadata": {},
   "outputs": [
    {
     "name": "stdout",
     "output_type": "stream",
     "text": [
      "              precision    recall  f1-score   support\n",
      "\n",
      "           0       0.99      1.00      1.00       100\n",
      "           1       1.00      0.99      0.99       100\n",
      "\n",
      "    accuracy                           0.99       200\n",
      "   macro avg       1.00      0.99      0.99       200\n",
      "weighted avg       1.00      0.99      0.99       200\n",
      "\n"
     ]
    }
   ],
   "source": [
    "from sklearn.metrics import confusion_matrix, classification_report\n",
    "\n",
    "report = classification_report(labels, newlabel)\n",
    "print(report)"
   ]
  },
  {
   "cell_type": "code",
   "execution_count": 33,
   "metadata": {},
   "outputs": [
    {
     "name": "stdout",
     "output_type": "stream",
     "text": [
      "[[ 98   2]\n",
      " [  0 100]]\n"
     ]
    }
   ],
   "source": [
    "CM = confusion_matrix(labels, newlabel)\n",
    "print(CM)"
   ]
  }
 ],
 "metadata": {
  "kernelspec": {
   "display_name": "Python 3",
   "language": "python",
   "name": "python3"
  },
  "language_info": {
   "codemirror_mode": {
    "name": "ipython",
    "version": 3
   },
   "file_extension": ".py",
   "mimetype": "text/x-python",
   "name": "python",
   "nbconvert_exporter": "python",
   "pygments_lexer": "ipython3",
   "version": "3.8.5"
  }
 },
 "nbformat": 4,
 "nbformat_minor": 4
}
