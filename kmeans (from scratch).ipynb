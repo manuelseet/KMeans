{
 "cells": [
  {
   "cell_type": "markdown",
   "metadata": {},
   "source": [
    "<h1> <strong> 1-Dimensional KMeans from Scratch"
   ]
  },
  {
   "cell_type": "markdown",
   "metadata": {},
   "source": [
    "<i> @description: Built a simple 1-dimensional K Means from scratch (with K = 2), to explore the iterative mechanisms of centroid adjustment.\n",
    "\n",
    "<i> @created: 22 June 2020 20:59:59pm\n",
    "    \n",
    "<i> @author: Manuel Seet"
   ]
  },
  {
   "cell_type": "code",
   "execution_count": 83,
   "metadata": {},
   "outputs": [
    {
     "data": {
      "text/plain": [
       "array([0, 0, 0, 0, 0, 0, 0, 0, 0, 0, 0, 0, 0, 0, 0, 0, 0, 0, 0, 0, 0, 0,\n",
       "       0, 0, 0, 0, 0, 0, 0, 0, 0, 0, 0, 0, 0, 0, 0, 0, 0, 0, 0, 0, 0, 0,\n",
       "       0, 0, 0, 0, 0, 0, 0, 0, 0, 0, 0, 0, 0, 0, 0, 0, 0, 0, 0, 0, 0, 0,\n",
       "       0, 0, 0, 0, 0, 0, 0, 0, 0, 0, 0, 0, 0, 0, 0, 0, 0, 0, 0, 0, 0, 0,\n",
       "       0, 0, 0, 0, 0, 0, 0, 0, 0, 0, 0, 0, 1, 1, 1, 1, 1, 1, 1, 1, 1, 1,\n",
       "       1, 1, 1, 1, 1, 1, 1, 1, 1, 1, 1, 1, 1, 1, 1, 1, 1, 1, 1, 1, 1, 1,\n",
       "       1, 1, 1, 1, 1, 1, 1, 1, 1, 1, 1, 1, 1, 1, 1, 1, 1, 1, 1, 1, 1, 1,\n",
       "       1, 1, 1, 1, 1, 1, 1, 1, 1, 1, 1, 1, 1, 1, 1, 1, 1, 1, 1, 1, 1, 1,\n",
       "       1, 1, 1, 1, 1, 1, 1, 1, 1, 1, 1, 1, 1, 1, 1, 1, 1, 1, 1, 1, 1, 1,\n",
       "       1, 1])"
      ]
     },
     "execution_count": 83,
     "metadata": {},
     "output_type": "execute_result"
    }
   ],
   "source": [
    "import pandas as pd\n",
    "import numpy as np\n",
    "import matplotlib.pyplot as plt\n",
    "from random import random\n",
    "\n",
    "n = 100\n",
    "lr = 0.5\n",
    "\n",
    "#here, I generate random gaussian dist data, with discriminable locations\n",
    "a = np.random.normal(33,5,n) \n",
    "b = np.random.normal(40,5,n)\n",
    "x = np.append(a,b)\n",
    "\n",
    "label_a = np.array([0]*n)\n",
    "label_b = np.array([1]*n)\n",
    "labels = np.append(label_a,label_b)\n",
    "labels"
   ]
  },
  {
   "cell_type": "code",
   "execution_count": 84,
   "metadata": {},
   "outputs": [
    {
     "data": {
      "image/png": "[encoded data removed]",
      "text/plain": [
       "<Figure size 432x288 with 1 Axes>"
      ]
     },
     "metadata": {
      "needs_background": "light"
     },
     "output_type": "display_data"
    }
   ],
   "source": [
    "plt.scatter(x, np.zeros_like(x), c = labels,\n",
    "            cmap=\"hot_r\", vmin=-2)\n",
    "\n",
    "plt.yticks([])\n",
    "#plt.legend()\n",
    "plt.title(\"data distribution before clustering (original clusters) \")\n",
    "plt.show()"
   ]
  },
  {
   "cell_type": "code",
   "execution_count": 85,
   "metadata": {},
   "outputs": [
    {
     "data": {
      "text/plain": [
       "(20.57223140506331, 52.25780030045138, 31.68556889538807)"
      ]
     },
     "execution_count": 85,
     "metadata": {},
     "output_type": "execute_result"
    }
   ],
   "source": [
    "min = x.min()\n",
    "max = x.max()\n",
    "range1 = max - min\n",
    "min, max, range1"
   ]
  },
  {
   "cell_type": "code",
   "execution_count": 86,
   "metadata": {},
   "outputs": [
    {
     "data": {
      "text/plain": [
       "(29.33750013439871, 46.19949083768814)"
      ]
     },
     "execution_count": 86,
     "metadata": {},
     "output_type": "execute_result"
    }
   ],
   "source": [
    "centA = min + (random()*range1)\n",
    "centB = min + (random()*range1)\n",
    "centA, centB"
   ]
  },
  {
   "cell_type": "code",
   "execution_count": 87,
   "metadata": {},
   "outputs": [
    {
     "data": {
      "text/plain": [
       "(29.33750013439871, 46.19949083768814)"
      ]
     },
     "execution_count": 87,
     "metadata": {},
     "output_type": "execute_result"
    }
   ],
   "source": [
    "if centA > centB:\n",
    "    centA, centB = centB, centA\n",
    "centA, centB"
   ]
  },
  {
   "cell_type": "code",
   "execution_count": 88,
   "metadata": {},
   "outputs": [],
   "source": [
    "dist2A = abs(x - centA)\n",
    "dist2B = abs(x - centB)\n",
    "x,dist2A;"
   ]
  },
  {
   "cell_type": "code",
   "execution_count": 89,
   "metadata": {},
   "outputs": [],
   "source": [
    "newlabel = []\n",
    "\n",
    "\n",
    "for i in range(len(x)):\n",
    "    if dist2A[i] < dist2B[i]:\n",
    "        newlabel.append(0)\n",
    "    elif dist2A[i] > dist2B[i]:\n",
    "        newlabel.append(1)\n"
   ]
  },
  {
   "cell_type": "code",
   "execution_count": 90,
   "metadata": {},
   "outputs": [],
   "source": [
    "a1 = []\n",
    "b1 = []\n",
    "\n",
    "for i in range(len(newlabel)):\n",
    "    if newlabel[i] == 0:\n",
    "        a1.append(x[i])\n",
    "    elif newlabel[i] == 1:\n",
    "        b1.append(x[i])\n",
    "\n",
    "centA1 = np.mean(a1)\n",
    "centB1 = np.mean(b1)"
   ]
  },
  {
   "cell_type": "code",
   "execution_count": 91,
   "metadata": {},
   "outputs": [
    {
     "data": {
      "image/png": "[encoded data removed]",
      "text/plain": [
       "<Figure size 432x288 with 1 Axes>"
      ]
     },
     "metadata": {
      "needs_background": "light"
     },
     "output_type": "display_data"
    }
   ],
   "source": [
    "plt.scatter(x, np.zeros_like(x), c = newlabel,\n",
    "            cmap=\"hot_r\", vmin=-2)\n",
    "\n",
    "plt.yticks([])\n",
    "#plt.legend()\n",
    "plt.title(\"Clusters after first iteration\")\n",
    "plt.show()"
   ]
  },
  {
   "cell_type": "code",
   "execution_count": 92,
   "metadata": {},
   "outputs": [],
   "source": [
    "\n",
    "centroidsA = [centA, centA1]\n",
    "centroidsB = [centB, centB1]\n",
    "\n",
    "for i in range(4):\n",
    "    dist2A_00 = abs(x - centA1)\n",
    "    dist2B_00 = abs(x - centB1)\n",
    "\n",
    "    newlabel = []\n",
    "    for i in range(len(x)):\n",
    "        if dist2A_00[i] < dist2B_00[i]:\n",
    "            newlabel.append(0)\n",
    "        elif dist2A_00[i] > dist2B_00[i]:\n",
    "            newlabel.append(1)\n",
    "\n",
    "    a1 = []\n",
    "    b1 = []\n",
    "\n",
    "    for i in range(len(newlabel)):\n",
    "        if newlabel[i] == 0:\n",
    "            a1.append(x[i])\n",
    "        elif newlabel[i] == 1:\n",
    "            b1.append(x[i])\n",
    "\n",
    "    centA_00 = np.mean(a1)\n",
    "    centB_00 = np.mean(b1)\n",
    "    \n",
    "    centroidsA.append(centA_00)\n",
    "    centroidsB.append(centB_00)\n",
    "\n",
    "centroids = [centA_00, centB_00]\n",
    "cent_label = [0, 1]"
   ]
  },
  {
   "cell_type": "code",
   "execution_count": 93,
   "metadata": {},
   "outputs": [
    {
     "data": {
      "image/png": "[encoded data removed]",
      "text/plain": [
       "<Figure size 432x288 with 1 Axes>"
      ]
     },
     "metadata": {
      "needs_background": "light"
     },
     "output_type": "display_data"
    }
   ],
   "source": [
    "plt.scatter(x, np.zeros_like(x), c = newlabel,\n",
    "            cmap=\"hot_r\", vmin=-2)\n",
    "plt.scatter(centroids, np.zeros_like(centroids), c = cent_label,\n",
    "            edgecolor=\"k\", s = 200)\n",
    "            \n",
    "plt.yticks([])\n",
    "plt.title(\"Clusters after final iteration\")\n",
    "#plt.legend()\n",
    "plt.show()"
   ]
  },
  {
   "cell_type": "code",
   "execution_count": 94,
   "metadata": {},
   "outputs": [
    {
     "data": {
      "text/plain": [
       "([29.33750013439871,\n",
       "  32.25672887846592,\n",
       "  32.01650804365316,\n",
       "  32.01650804365316,\n",
       "  32.01650804365316,\n",
       "  32.01650804365316],\n",
       " [46.19949083768814,\n",
       "  42.0938531468384,\n",
       "  41.84122519920706,\n",
       "  41.84122519920706,\n",
       "  41.84122519920706,\n",
       "  41.84122519920706],\n",
       " 108,\n",
       " 92)"
      ]
     },
     "execution_count": 94,
     "metadata": {},
     "output_type": "execute_result"
    }
   ],
   "source": [
    "centroidsA, centroidsB, len(a1), len(b1)"
   ]
  },
  {
   "cell_type": "code",
   "execution_count": 95,
   "metadata": {},
   "outputs": [
    {
     "data": {
      "text/plain": [
       "Text(0, 0.5, 'Centroid A position')"
      ]
     },
     "execution_count": 95,
     "metadata": {},
     "output_type": "execute_result"
    },
    {
     "data": {
      "image/png": "[encoded data removed]",
      "text/plain": [
       "<Figure size 432x288 with 1 Axes>"
      ]
     },
     "metadata": {
      "needs_background": "light"
     },
     "output_type": "display_data"
    }
   ],
   "source": [
    "plt.plot(range(len(centroidsA)), centroidsA, \"o-\")\n",
    "plt.title(\"Centroid A over %i iterations\" % len(centroidsA))\n",
    "plt.xlabel(\"Iteration No.\")\n",
    "plt.ylabel(\"Centroid A position\")"
   ]
  },
  {
   "cell_type": "code",
   "execution_count": 96,
   "metadata": {},
   "outputs": [
    {
     "data": {
      "text/plain": [
       "Text(0, 0.5, 'Centroid B position')"
      ]
     },
     "execution_count": 96,
     "metadata": {},
     "output_type": "execute_result"
    },
    {
     "data": {
      "image/png": "[encoded data removed]",
      "text/plain": [
       "<Figure size 432x288 with 1 Axes>"
      ]
     },
     "metadata": {
      "needs_background": "light"
     },
     "output_type": "display_data"
    }
   ],
   "source": [
    "plt.plot(range(len(centroidsB)), centroidsB, \"o-\")\n",
    "plt.title(\"Centroid B over %i iterations\" % len(centroidsB))\n",
    "plt.xlabel(\"Iteration No.\")\n",
    "plt.ylabel(\"Centroid B position\")"
   ]
  },
  {
   "cell_type": "code",
   "execution_count": 97,
   "metadata": {},
   "outputs": [
    {
     "name": "stdout",
     "output_type": "stream",
     "text": [
      "              precision    recall  f1-score   support\n",
      "\n",
      "           0       0.69      0.74      0.71       100\n",
      "           1       0.72      0.66      0.69       100\n",
      "\n",
      "    accuracy                           0.70       200\n",
      "   macro avg       0.70      0.70      0.70       200\n",
      "weighted avg       0.70      0.70      0.70       200\n",
      "\n"
     ]
    }
   ],
   "source": [
    "from sklearn.metrics import confusion_matrix, classification_report\n",
    "\n",
    "report = classification_report(labels, newlabel)\n",
    "print(report)"
   ]
  },
  {
   "cell_type": "code",
   "execution_count": 98,
   "metadata": {},
   "outputs": [
    {
     "name": "stdout",
     "output_type": "stream",
     "text": [
      "[[74 26]\n",
      " [34 66]]\n"
     ]
    }
   ],
   "source": [
    "CM = confusion_matrix(labels, newlabel)\n",
    "print(CM)"
   ]
  }
 ],
 "metadata": {
  "kernelspec": {
   "display_name": "Python 3",
   "language": "python",
   "name": "python3"
  },
  "language_info": {
   "codemirror_mode": {
    "name": "ipython",
    "version": 3
   },
   "file_extension": ".py",
   "mimetype": "text/x-python",
   "name": "python",
   "nbconvert_exporter": "python",
   "pygments_lexer": "ipython3",
   "version": "3.8.5"
  }
 },
 "nbformat": 4,
 "nbformat_minor": 4
}
